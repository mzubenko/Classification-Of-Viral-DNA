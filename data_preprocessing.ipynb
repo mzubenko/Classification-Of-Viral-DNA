{
  "nbformat": 4,
  "nbformat_minor": 0,
  "metadata": {
    "colab": {
      "provenance": []
    },
    "kernelspec": {
      "name": "python3",
      "display_name": "Python 3"
    },
    "language_info": {
      "name": "python"
    }
  },
  "cells": [
    {
      "cell_type": "code",
      "execution_count": null,
      "metadata": {
        "colab": {
          "base_uri": "https://localhost:8080/"
        },
        "id": "jfEWnHMhxoj_",
        "outputId": "3125bce7-f923-4fb8-8b9e-cef6375717c0"
      },
      "outputs": [
        {
          "output_type": "stream",
          "name": "stdout",
          "text": [
            "Collecting biopython\n",
            "  Downloading biopython-1.83-cp310-cp310-manylinux_2_17_x86_64.manylinux2014_x86_64.whl (3.1 MB)\n",
            "\u001b[2K     \u001b[90m━━━━━━━━━━━━━━━━━━━━━━━━━━━━━━━━━━━━━━━━\u001b[0m \u001b[32m3.1/3.1 MB\u001b[0m \u001b[31m11.5 MB/s\u001b[0m eta \u001b[36m0:00:00\u001b[0m\n",
            "\u001b[?25hRequirement already satisfied: numpy in /usr/local/lib/python3.10/dist-packages (from biopython) (1.25.2)\n",
            "Installing collected packages: biopython\n",
            "Successfully installed biopython-1.83\n"
          ]
        }
      ],
      "source": [
        "!pip install biopython"
      ]
    },
    {
      "cell_type": "code",
      "source": [
        "from Bio import SeqIO\n",
        "import sys\n",
        "import time\n",
        "import traceback\n",
        "import numpy as np\n",
        "import pandas as pd\n",
        "import random\n",
        "import matplotlib.pyplot as plt"
      ],
      "metadata": {
        "id": "vSnWQKtyxwVt"
      },
      "execution_count": null,
      "outputs": []
    },
    {
      "cell_type": "code",
      "source": [
        "np.random.seed(42)"
      ],
      "metadata": {
        "id": "DmLcm5QVG_ic"
      },
      "execution_count": null,
      "outputs": []
    },
    {
      "cell_type": "code",
      "source": [
        "from google.colab import drive\n",
        "drive.mount('/content/drive')"
      ],
      "metadata": {
        "id": "UEPuPlP8xzp9",
        "colab": {
          "base_uri": "https://localhost:8080/"
        },
        "outputId": "9d72a667-6c48-494b-8a95-8e5618786bbf"
      },
      "execution_count": null,
      "outputs": [
        {
          "output_type": "stream",
          "name": "stdout",
          "text": [
            "Mounted at /content/drive\n"
          ]
        }
      ]
    },
    {
      "cell_type": "code",
      "source": [
        "dengue = '/content/drive/MyDrive/Diplom/final data/dengue virus type 3_7860.fasta'\n",
        "japanese_encephalitis = '/content/drive/MyDrive/Diplom/final data/japanese encephalitis_3413.fasta'\n",
        "zika = '/content/drive/MyDrive/Diplom/final data/zika_2476.fasta'\n",
        "west_nile = '/content/drive/MyDrive/Diplom/final data/west nile_3483.fasta'\n",
        "yellow_fever = '/content/drive/MyDrive/Diplom/final data/yellow fever_1974.fasta'"
      ],
      "metadata": {
        "id": "IV-t8xNux5W1"
      },
      "execution_count": null,
      "outputs": []
    },
    {
      "cell_type": "code",
      "source": [
        "def extract_random_fragment(seq, fragment_length):\n",
        "    seq_length = len(seq)\n",
        "    if seq_length <= fragment_length:\n",
        "        return seq\n",
        "    else:\n",
        "        start_index = random.randint(0, seq_length - fragment_length)\n",
        "        return seq[start_index:start_index + fragment_length]"
      ],
      "metadata": {
        "id": "4FHAlaf_YCak"
      },
      "execution_count": null,
      "outputs": []
    },
    {
      "cell_type": "code",
      "source": [
        "def process_fasta_file(file_path, label, fragment_length):\n",
        "    counter = 0\n",
        "    for seq_record in SeqIO.parse(file_path, \"fasta\"):\n",
        "        fragment = extract_random_fragment(str(seq_record.seq), fragment_length)\n",
        "        sequences.append(fragment)\n",
        "        labels.append(label)\n",
        "        counter += 1\n",
        "    return counter"
      ],
      "metadata": {
        "id": "my5fAa9oYDiu"
      },
      "execution_count": null,
      "outputs": []
    },
    {
      "cell_type": "code",
      "source": [
        "fragment_length = 500\n",
        "sequences = []\n",
        "labels = []\n",
        "\n",
        "dengue_count = process_fasta_file(dengue, 0, fragment_length)\n",
        "japanese_encephalitis_count = process_fasta_file(japanese_encephalitis, 1, fragment_length)\n",
        "zika_count = process_fasta_file(zika, 2, fragment_length)\n",
        "west_nile_count = process_fasta_file(west_nile, 3, fragment_length)\n",
        "yellow_fever_count = process_fasta_file(yellow_fever, 4, fragment_length)\n",
        "\n",
        "# Check the results\n",
        "print(\"Number of sequences:\", len(sequences))\n",
        "print(\"Number of labels:\", len(labels))\n",
        "print(\"Example sequence:\", sequences[0])\n",
        "print(\"Example label:\", labels[0])"
      ],
      "metadata": {
        "colab": {
          "base_uri": "https://localhost:8080/"
        },
        "id": "EIXcsq06Z2ut",
        "outputId": "c352301e-0926-4727-b62b-470f8eacc9e2"
      },
      "execution_count": null,
      "outputs": [
        {
          "output_type": "stream",
          "name": "stdout",
          "text": [
            "Number of sequences: 19202\n",
            "Number of labels: 19202\n",
            "Example sequence: ATAACACCCCAGGCATCAACCGTCGAAGCCATCTTACCTGAATATGGAACCCTTGGGCTAGAATGCTCACCACGGACAGGTTTGGATTTCAATGAAATGATTTTGTTGACAATGAAGAACAAAGCATGGATGGTACACAGACAATGGTTTTTTGACCTACCTCTACCATGGACATCAGGGGCTACAACAGAAACACCAACCTGGAATAAGAAAGAGCTTCTCGTGACATTCAAAAACGCACACGCAAAAAAACAAGAAGTAGTAGTCCTTGGATCGCAAGAGGGAGCAATGCACACAGCACTGACAGGAGCTACAGAGATCCAAACCTCAGGAGGCACAAGTATTTTTGCGGGGCACTTGAAATGCAGACTCAAGATGGACAAATTGGAACTCAAGGGGATGAGCTATGCAATGTGCTCGAATGCCTTTGTGTTGAAGAAAGAAGTCTCTGAAACACAACATGGGACAATACTCATTAAGGTCGAGTACAAAGGGGAAGA\n",
            "Example label: 0\n"
          ]
        }
      ]
    },
    {
      "cell_type": "code",
      "source": [
        "def plot_sample_distribution(dengue_count, japanese_encephalitis_count, zika_count, west_nile_count, yellow_fever_count):\n",
        "    # Define the labels and counts\n",
        "    labels = ['Dengue', 'Japanese Encephalitis', 'Zika', 'West Nile', 'Yellow Fever']\n",
        "    counts = [dengue_count, japanese_encephalitis_count, zika_count, west_nile_count, yellow_fever_count]\n",
        "\n",
        "    # Create the histogram\n",
        "    plt.figure(figsize=(10, 6))\n",
        "    plt.bar(labels, counts, color=['blue', 'orange', 'green', 'red', 'purple'])\n",
        "    plt.xlabel('Virus')\n",
        "    plt.ylabel('Number of Samples')\n",
        "    plt.title('Sample Distribution of Each Virus')\n",
        "    plt.grid(axis='y')\n",
        "\n",
        "    # Display the counts on top of the bars\n",
        "    for i, count in enumerate(counts):\n",
        "        plt.text(i, count + 5, str(count), ha='center', va='bottom')\n",
        "\n",
        "    plt.show()"
      ],
      "metadata": {
        "id": "mj1dM4OJZ2ln"
      },
      "execution_count": null,
      "outputs": []
    },
    {
      "cell_type": "code",
      "source": [
        "plot_sample_distribution(dengue_count, japanese_encephalitis_count, zika_count, west_nile_count, yellow_fever_count)"
      ],
      "metadata": {
        "colab": {
          "base_uri": "https://localhost:8080/",
          "height": 564
        },
        "id": "F-sKfrGfdOgT",
        "outputId": "fec2c56c-e727-4cb7-df49-511a3f0ffd6f"
      },
      "execution_count": null,
      "outputs": [
        {
          "output_type": "display_data",
          "data": {
            "text/plain": [
              "<Figure size 1000x600 with 1 Axes>"
            ],
            "image/png": "[encoded data removed]"
          },
          "metadata": {}
        }
      ]
    },
    {
      "cell_type": "code",
      "source": [
        "sequences[0]"
      ],
      "metadata": {
        "colab": {
          "base_uri": "https://localhost:8080/",
          "height": 71
        },
        "id": "vwF05ajIzD-j",
        "outputId": "5ffcc8f0-e962-4837-f1a3-83ea3a0fe61c"
      },
      "execution_count": null,
      "outputs": [
        {
          "output_type": "execute_result",
          "data": {
            "text/plain": [
              "'ATAACACCCCAGGCATCAACCGTCGAAGCCATCTTACCTGAATATGGAACCCTTGGGCTAGAATGCTCACCACGGACAGGTTTGGATTTCAATGAAATGATTTTGTTGACAATGAAGAACAAAGCATGGATGGTACACAGACAATGGTTTTTTGACCTACCTCTACCATGGACATCAGGGGCTACAACAGAAACACCAACCTGGAATAAGAAAGAGCTTCTCGTGACATTCAAAAACGCACACGCAAAAAAACAAGAAGTAGTAGTCCTTGGATCGCAAGAGGGAGCAATGCACACAGCACTGACAGGAGCTACAGAGATCCAAACCTCAGGAGGCACAAGTATTTTTGCGGGGCACTTGAAATGCAGACTCAAGATGGACAAATTGGAACTCAAGGGGATGAGCTATGCAATGTGCTCGAATGCCTTTGTGTTGAAGAAAGAAGTCTCTGAAACACAACATGGGACAATACTCATTAAGGTCGAGTACAAAGGGGAAGA'"
            ],
            "application/vnd.google.colaboratory.intrinsic+json": {
              "type": "string"
            }
          },
          "metadata": {},
          "execution_count": 11
        }
      ]
    },
    {
      "cell_type": "code",
      "source": [
        "labels[0]"
      ],
      "metadata": {
        "colab": {
          "base_uri": "https://localhost:8080/"
        },
        "id": "trO40bZpyyVo",
        "outputId": "aca0096d-158e-4fd1-c07d-821043422b8d"
      },
      "execution_count": null,
      "outputs": [
        {
          "output_type": "execute_result",
          "data": {
            "text/plain": [
              "0"
            ]
          },
          "metadata": {},
          "execution_count": 12
        }
      ]
    },
    {
      "cell_type": "code",
      "source": [
        "def prepare_data(seqs):\n",
        "    max_len = 0\n",
        "    voc2ind = {voc:ind for ind,voc in enumerate(['<pad>', '<unk>'])}\n",
        "    i = len(voc2ind)\n",
        "\n",
        "    tokenized_seqs = []\n",
        "    for seq in seqs:\n",
        "        tokenized_seq = []\n",
        "        for e in seq:\n",
        "            # make sure the sequence is upper case, a == A\n",
        "            seq = seq.upper()\n",
        "            # if we haven't seen this letter before, add to the corupus\n",
        "            if not e in voc2ind:\n",
        "                voc2ind[e] = i\n",
        "                i += 1\n",
        "            tokenized_seq.append(voc2ind[e])\n",
        "        tokenized_seqs.append(tokenized_seq)\n",
        "\n",
        "    return tokenized_seqs, voc2ind"
      ],
      "metadata": {
        "id": "gf9hJ706yFsC"
      },
      "execution_count": null,
      "outputs": []
    },
    {
      "cell_type": "code",
      "source": [
        "def pad(tokenized_seqs, voc2ind):\n",
        "\n",
        "    padded_seqs = []\n",
        "\n",
        "    # find max sequence length\n",
        "    max_len = 0\n",
        "    for seq in tokenized_seqs:\n",
        "        max_len = max(len(seq), max_len)\n",
        "\n",
        "    # add padding so sequences are max_length\n",
        "    for seq in tokenized_seqs:\n",
        "        padded_seq = seq + [voc2ind['<pad>']] * (max_len - len(seq))\n",
        "        padded_seqs.append(padded_seq)\n",
        "\n",
        "    return np.array(padded_seqs, dtype=np.float32)"
      ],
      "metadata": {
        "id": "y5L00OpifPJz"
      },
      "execution_count": null,
      "outputs": []
    },
    {
      "cell_type": "code",
      "source": [
        "token_seq, voc2ind = prepare_data(sequences)\n",
        "padded_secs = pad(token_seq, voc2ind)\n",
        "print(sequences[0])\n",
        "print(\"\\n\", token_seq[0], \"\\n\\n\", voc2ind, \"\\n\\n\", padded_secs[0])"
      ],
      "metadata": {
        "colab": {
          "base_uri": "https://localhost:8080/"
        },
        "id": "DxXl3WWyrt7N",
        "outputId": "f8344b34-c1eb-4b2c-e084-0d270b0a6b33"
      },
      "execution_count": null,
      "outputs": [
        {
          "output_type": "stream",
          "name": "stdout",
          "text": [
            "ATAACACCCCAGGCATCAACCGTCGAAGCCATCTTACCTGAATATGGAACCCTTGGGCTAGAATGCTCACCACGGACAGGTTTGGATTTCAATGAAATGATTTTGTTGACAATGAAGAACAAAGCATGGATGGTACACAGACAATGGTTTTTTGACCTACCTCTACCATGGACATCAGGGGCTACAACAGAAACACCAACCTGGAATAAGAAAGAGCTTCTCGTGACATTCAAAAACGCACACGCAAAAAAACAAGAAGTAGTAGTCCTTGGATCGCAAGAGGGAGCAATGCACACAGCACTGACAGGAGCTACAGAGATCCAAACCTCAGGAGGCACAAGTATTTTTGCGGGGCACTTGAAATGCAGACTCAAGATGGACAAATTGGAACTCAAGGGGATGAGCTATGCAATGTGCTCGAATGCCTTTGTGTTGAAGAAAGAAGTCTCTGAAACACAACATGGGACAATACTCATTAAGGTCGAGTACAAAGGGGAAGA\n",
            "\n",
            " [2, 3, 2, 2, 4, 2, 4, 4, 4, 4, 2, 5, 5, 4, 2, 3, 4, 2, 2, 4, 4, 5, 3, 4, 5, 2, 2, 5, 4, 4, 2, 3, 4, 3, 3, 2, 4, 4, 3, 5, 2, 2, 3, 2, 3, 5, 5, 2, 2, 4, 4, 4, 3, 3, 5, 5, 5, 4, 3, 2, 5, 2, 2, 3, 5, 4, 3, 4, 2, 4, 4, 2, 4, 5, 5, 2, 4, 2, 5, 5, 3, 3, 3, 5, 5, 2, 3, 3, 3, 4, 2, 2, 3, 5, 2, 2, 2, 3, 5, 2, 3, 3, 3, 3, 5, 3, 3, 5, 2, 4, 2, 2, 3, 5, 2, 2, 5, 2, 2, 4, 2, 2, 2, 5, 4, 2, 3, 5, 5, 2, 3, 5, 5, 3, 2, 4, 2, 4, 2, 5, 2, 4, 2, 2, 3, 5, 5, 3, 3, 3, 3, 3, 3, 5, 2, 4, 4, 3, 2, 4, 4, 3, 4, 3, 2, 4, 4, 2, 3, 5, 5, 2, 4, 2, 3, 4, 2, 5, 5, 5, 5, 4, 3, 2, 4, 2, 2, 4, 2, 5, 2, 2, 2, 4, 2, 4, 4, 2, 2, 4, 4, 3, 5, 5, 2, 2, 3, 2, 2, 5, 2, 2, 2, 5, 2, 5, 4, 3, 3, 4, 3, 4, 5, 3, 5, 2, 4, 2, 3, 3, 4, 2, 2, 2, 2, 2, 4, 5, 4, 2, 4, 2, 4, 5, 4, 2, 2, 2, 2, 2, 2, 2, 4, 2, 2, 5, 2, 2, 5, 3, 2, 5, 3, 2, 5, 3, 4, 4, 3, 3, 5, 5, 2, 3, 4, 5, 4, 2, 2, 5, 2, 5, 5, 5, 2, 5, 4, 2, 2, 3, 5, 4, 2, 4, 2, 4, 2, 5, 4, 2, 4, 3, 5, 2, 4, 2, 5, 5, 2, 5, 4, 3, 2, 4, 2, 5, 2, 5, 2, 3, 4, 4, 2, 2, 2, 4, 4, 3, 4, 2, 5, 5, 2, 5, 5, 4, 2, 4, 2, 2, 5, 3, 2, 3, 3, 3, 3, 3, 5, 4, 5, 5, 5, 5, 4, 2, 4, 3, 3, 5, 2, 2, 2, 3, 5, 4, 2, 5, 2, 4, 3, 4, 2, 2, 5, 2, 3, 5, 5, 2, 4, 2, 2, 2, 3, 3, 5, 5, 2, 2, 4, 3, 4, 2, 2, 5, 5, 5, 5, 2, 3, 5, 2, 5, 4, 3, 2, 3, 5, 4, 2, 2, 3, 5, 3, 5, 4, 3, 4, 5, 2, 2, 3, 5, 4, 4, 3, 3, 3, 5, 3, 5, 3, 3, 5, 2, 2, 5, 2, 2, 2, 5, 2, 2, 5, 3, 4, 3, 4, 3, 5, 2, 2, 2, 4, 2, 4, 2, 2, 4, 2, 3, 5, 5, 5, 2, 4, 2, 2, 3, 2, 4, 3, 4, 2, 3, 3, 2, 2, 5, 5, 3, 4, 5, 2, 5, 3, 2, 4, 2, 2, 2, 5, 5, 5, 5, 2, 2, 5, 2] \n",
            "\n",
            " {'<pad>': 0, '<unk>': 1, 'A': 2, 'T': 3, 'C': 4, 'G': 5, 'W': 6, 'N': 7, 'R': 8, 'Y': 9, 'M': 10, 'S': 11, 'K': 12} \n",
            "\n",
            " [2. 3. 2. 2. 4. 2. 4. 4. 4. 4. 2. 5. 5. 4. 2. 3. 4. 2. 2. 4. 4. 5. 3. 4.\n",
            " 5. 2. 2. 5. 4. 4. 2. 3. 4. 3. 3. 2. 4. 4. 3. 5. 2. 2. 3. 2. 3. 5. 5. 2.\n",
            " 2. 4. 4. 4. 3. 3. 5. 5. 5. 4. 3. 2. 5. 2. 2. 3. 5. 4. 3. 4. 2. 4. 4. 2.\n",
            " 4. 5. 5. 2. 4. 2. 5. 5. 3. 3. 3. 5. 5. 2. 3. 3. 3. 4. 2. 2. 3. 5. 2. 2.\n",
            " 2. 3. 5. 2. 3. 3. 3. 3. 5. 3. 3. 5. 2. 4. 2. 2. 3. 5. 2. 2. 5. 2. 2. 4.\n",
            " 2. 2. 2. 5. 4. 2. 3. 5. 5. 2. 3. 5. 5. 3. 2. 4. 2. 4. 2. 5. 2. 4. 2. 2.\n",
            " 3. 5. 5. 3. 3. 3. 3. 3. 3. 5. 2. 4. 4. 3. 2. 4. 4. 3. 4. 3. 2. 4. 4. 2.\n",
            " 3. 5. 5. 2. 4. 2. 3. 4. 2. 5. 5. 5. 5. 4. 3. 2. 4. 2. 2. 4. 2. 5. 2. 2.\n",
            " 2. 4. 2. 4. 4. 2. 2. 4. 4. 3. 5. 5. 2. 2. 3. 2. 2. 5. 2. 2. 2. 5. 2. 5.\n",
            " 4. 3. 3. 4. 3. 4. 5. 3. 5. 2. 4. 2. 3. 3. 4. 2. 2. 2. 2. 2. 4. 5. 4. 2.\n",
            " 4. 2. 4. 5. 4. 2. 2. 2. 2. 2. 2. 2. 4. 2. 2. 5. 2. 2. 5. 3. 2. 5. 3. 2.\n",
            " 5. 3. 4. 4. 3. 3. 5. 5. 2. 3. 4. 5. 4. 2. 2. 5. 2. 5. 5. 5. 2. 5. 4. 2.\n",
            " 2. 3. 5. 4. 2. 4. 2. 4. 2. 5. 4. 2. 4. 3. 5. 2. 4. 2. 5. 5. 2. 5. 4. 3.\n",
            " 2. 4. 2. 5. 2. 5. 2. 3. 4. 4. 2. 2. 2. 4. 4. 3. 4. 2. 5. 5. 2. 5. 5. 4.\n",
            " 2. 4. 2. 2. 5. 3. 2. 3. 3. 3. 3. 3. 5. 4. 5. 5. 5. 5. 4. 2. 4. 3. 3. 5.\n",
            " 2. 2. 2. 3. 5. 4. 2. 5. 2. 4. 3. 4. 2. 2. 5. 2. 3. 5. 5. 2. 4. 2. 2. 2.\n",
            " 3. 3. 5. 5. 2. 2. 4. 3. 4. 2. 2. 5. 5. 5. 5. 2. 3. 5. 2. 5. 4. 3. 2. 3.\n",
            " 5. 4. 2. 2. 3. 5. 3. 5. 4. 3. 4. 5. 2. 2. 3. 5. 4. 4. 3. 3. 3. 5. 3. 5.\n",
            " 3. 3. 5. 2. 2. 5. 2. 2. 2. 5. 2. 2. 5. 3. 4. 3. 4. 3. 5. 2. 2. 2. 4. 2.\n",
            " 4. 2. 2. 4. 2. 3. 5. 5. 5. 2. 4. 2. 2. 3. 2. 4. 3. 4. 2. 3. 3. 2. 2. 5.\n",
            " 5. 3. 4. 5. 2. 5. 3. 2. 4. 2. 2. 2. 5. 5. 5. 5. 2. 2. 5. 2.]\n"
          ]
        }
      ]
    },
    {
      "cell_type": "code",
      "source": [
        "data_tokenized = pd.DataFrame(padded_secs)\n",
        "data_tokenized['label'] = labels"
      ],
      "metadata": {
        "id": "JKyQFtNLrsDf"
      },
      "execution_count": null,
      "outputs": []
    },
    {
      "cell_type": "code",
      "source": [
        "data_tokenized"
      ],
      "metadata": {
        "colab": {
          "base_uri": "https://localhost:8080/"
        },
        "id": "RIW7Ubfu1Y9a",
        "outputId": "440924fd-3b74-43d0-aabd-4a4149c47761"
      },
      "execution_count": null,
      "outputs": [
        {
          "output_type": "execute_result",
          "data": {
            "text/plain": [
              "         0    1    2    3    4    5    6    7    8    9  ...  491  492  493  \\\n",
              "0      2.0  3.0  2.0  2.0  4.0  2.0  4.0  4.0  4.0  4.0  ...  2.0  5.0  5.0   \n",
              "1      2.0  5.0  2.0  2.0  5.0  3.0  4.0  5.0  5.0  5.0  ...  5.0  3.0  2.0   \n",
              "2      3.0  3.0  2.0  2.0  2.0  4.0  5.0  4.0  5.0  4.0  ...  0.0  0.0  0.0   \n",
              "3      5.0  2.0  2.0  2.0  4.0  5.0  4.0  5.0  4.0  5.0  ...  0.0  0.0  0.0   \n",
              "4      4.0  5.0  4.0  5.0  4.0  5.0  2.0  5.0  2.0  2.0  ...  5.0  0.0  0.0   \n",
              "...    ...  ...  ...  ...  ...  ...  ...  ...  ...  ...  ...  ...  ...  ...   \n",
              "19197  2.0  2.0  5.0  5.0  4.0  3.0  3.0  3.0  4.0  2.0  ...  5.0  3.0  5.0   \n",
              "19198  5.0  3.0  3.0  2.0  4.0  2.0  5.0  5.0  5.0  5.0  ...  0.0  0.0  0.0   \n",
              "19199  4.0  4.0  4.0  2.0  4.0  4.0  2.0  3.0  4.0  5.0  ...  0.0  0.0  0.0   \n",
              "19200  5.0  5.0  2.0  2.0  3.0  3.0  4.0  2.0  4.0  3.0  ...  0.0  0.0  0.0   \n",
              "19201  4.0  4.0  4.0  2.0  4.0  4.0  2.0  3.0  4.0  5.0  ...  0.0  0.0  0.0   \n",
              "\n",
              "       494  495  496  497  498  499  label  \n",
              "0      5.0  5.0  2.0  2.0  5.0  2.0      0  \n",
              "1      5.0  2.0  5.0  2.0  4.0  2.0      0  \n",
              "2      0.0  0.0  0.0  0.0  0.0  0.0      0  \n",
              "3      0.0  0.0  0.0  0.0  0.0  0.0      0  \n",
              "4      0.0  0.0  0.0  0.0  0.0  0.0      0  \n",
              "...    ...  ...  ...  ...  ...  ...    ...  \n",
              "19197  5.0  2.0  3.0  5.0  5.0  5.0      4  \n",
              "19198  0.0  0.0  0.0  0.0  0.0  0.0      4  \n",
              "19199  0.0  0.0  0.0  0.0  0.0  0.0      4  \n",
              "19200  0.0  0.0  0.0  0.0  0.0  0.0      4  \n",
              "19201  0.0  0.0  0.0  0.0  0.0  0.0      4  \n",
              "\n",
              "[19202 rows x 501 columns]"
            ],
            "text/html": [
              "\n",
              "  <div id=\"df-614b1ecc-b590-4ebc-a9ed-1c3f3fa91eec\" class=\"colab-df-container\">\n",
              "    <div>\n",
              "<style scoped>\n",
              "    .dataframe tbody tr th:only-of-type {\n",
              "        vertical-align: middle;\n",
              "    }\n",
              "\n",
              "    .dataframe tbody tr th {\n",
              "        vertical-align: top;\n",
              "    }\n",
              "\n",
              "    .dataframe thead th {\n",
              "        text-align: right;\n",
              "    }\n",
              "</style>\n",
              "<table border=\"1\" class=\"dataframe\">\n",
              "  <thead>\n",
              "    <tr style=\"text-align: right;\">\n",
              "      <th></th>\n",
              "      <th>0</th>\n",
              "      <th>1</th>\n",
              "      <th>2</th>\n",
              "      <th>3</th>\n",
              "      <th>4</th>\n",
              "      <th>5</th>\n",
              "      <th>6</th>\n",
              "      <th>7</th>\n",
              "      <th>8</th>\n",
              "      <th>9</th>\n",
              "      <th>...</th>\n",
              "      <th>491</th>\n",
              "      <th>492</th>\n",
              "      <th>493</th>\n",
              "      <th>494</th>\n",
              "      <th>495</th>\n",
              "      <th>496</th>\n",
              "      <th>497</th>\n",
              "      <th>498</th>\n",
              "      <th>499</th>\n",
              "      <th>label</th>\n",
              "    </tr>\n",
              "  </thead>\n",
              "  <tbody>\n",
              "    <tr>\n",
              "      <th>0</th>\n",
              "      <td>2.0</td>\n",
              "      <td>3.0</td>\n",
              "      <td>2.0</td>\n",
              "      <td>2.0</td>\n",
              "      <td>4.0</td>\n",
              "      <td>2.0</td>\n",
              "      <td>4.0</td>\n",
              "      <td>4.0</td>\n",
              "      <td>4.0</td>\n",
              "      <td>4.0</td>\n",
              "      <td>...</td>\n",
              "      <td>2.0</td>\n",
              "      <td>5.0</td>\n",
              "      <td>5.0</td>\n",
              "      <td>5.0</td>\n",
              "      <td>5.0</td>\n",
              "      <td>2.0</td>\n",
              "      <td>2.0</td>\n",
              "      <td>5.0</td>\n",
              "      <td>2.0</td>\n",
              "      <td>0</td>\n",
              "    </tr>\n",
              "    <tr>\n",
              "      <th>1</th>\n",
              "      <td>2.0</td>\n",
              "      <td>5.0</td>\n",
              "      <td>2.0</td>\n",
              "      <td>2.0</td>\n",
              "      <td>5.0</td>\n",
              "      <td>3.0</td>\n",
              "      <td>4.0</td>\n",
              "      <td>5.0</td>\n",
              "      <td>5.0</td>\n",
              "      <td>5.0</td>\n",
              "      <td>...</td>\n",
              "      <td>5.0</td>\n",
              "      <td>3.0</td>\n",
              "      <td>2.0</td>\n",
              "      <td>5.0</td>\n",
              "      <td>2.0</td>\n",
              "      <td>5.0</td>\n",
              "      <td>2.0</td>\n",
              "      <td>4.0</td>\n",
              "      <td>2.0</td>\n",
              "      <td>0</td>\n",
              "    </tr>\n",
              "    <tr>\n",
              "      <th>2</th>\n",
              "      <td>3.0</td>\n",
              "      <td>3.0</td>\n",
              "      <td>2.0</td>\n",
              "      <td>2.0</td>\n",
              "      <td>2.0</td>\n",
              "      <td>4.0</td>\n",
              "      <td>5.0</td>\n",
              "      <td>4.0</td>\n",
              "      <td>5.0</td>\n",
              "      <td>4.0</td>\n",
              "      <td>...</td>\n",
              "      <td>0.0</td>\n",
              "      <td>0.0</td>\n",
              "      <td>0.0</td>\n",
              "      <td>0.0</td>\n",
              "      <td>0.0</td>\n",
              "      <td>0.0</td>\n",
              "      <td>0.0</td>\n",
              "      <td>0.0</td>\n",
              "      <td>0.0</td>\n",
              "      <td>0</td>\n",
              "    </tr>\n",
              "    <tr>\n",
              "      <th>3</th>\n",
              "      <td>5.0</td>\n",
              "      <td>2.0</td>\n",
              "      <td>2.0</td>\n",
              "      <td>2.0</td>\n",
              "      <td>4.0</td>\n",
              "      <td>5.0</td>\n",
              "      <td>4.0</td>\n",
              "      <td>5.0</td>\n",
              "      <td>4.0</td>\n",
              "      <td>5.0</td>\n",
              "      <td>...</td>\n",
              "      <td>0.0</td>\n",
              "      <td>0.0</td>\n",
              "      <td>0.0</td>\n",
              "      <td>0.0</td>\n",
              "      <td>0.0</td>\n",
              "      <td>0.0</td>\n",
              "      <td>0.0</td>\n",
              "      <td>0.0</td>\n",
              "      <td>0.0</td>\n",
              "      <td>0</td>\n",
              "    </tr>\n",
              "    <tr>\n",
              "      <th>4</th>\n",
              "      <td>4.0</td>\n",
              "      <td>5.0</td>\n",
              "      <td>4.0</td>\n",
              "      <td>5.0</td>\n",
              "      <td>4.0</td>\n",
              "      <td>5.0</td>\n",
              "      <td>2.0</td>\n",
              "      <td>5.0</td>\n",
              "      <td>2.0</td>\n",
              "      <td>2.0</td>\n",
              "      <td>...</td>\n",
              "      <td>5.0</td>\n",
              "      <td>0.0</td>\n",
              "      <td>0.0</td>\n",
              "      <td>0.0</td>\n",
              "      <td>0.0</td>\n",
              "      <td>0.0</td>\n",
              "      <td>0.0</td>\n",
              "      <td>0.0</td>\n",
              "      <td>0.0</td>\n",
              "      <td>0</td>\n",
              "    </tr>\n",
              "    <tr>\n",
              "      <th>...</th>\n",
              "      <td>...</td>\n",
              "      <td>...</td>\n",
              "      <td>...</td>\n",
              "      <td>...</td>\n",
              "      <td>...</td>\n",
              "      <td>...</td>\n",
              "      <td>...</td>\n",
              "      <td>...</td>\n",
              "      <td>...</td>\n",
              "      <td>...</td>\n",
              "      <td>...</td>\n",
              "      <td>...</td>\n",
              "      <td>...</td>\n",
              "      <td>...</td>\n",
              "      <td>...</td>\n",
              "      <td>...</td>\n",
              "      <td>...</td>\n",
              "      <td>...</td>\n",
              "      <td>...</td>\n",
              "      <td>...</td>\n",
              "      <td>...</td>\n",
              "    </tr>\n",
              "    <tr>\n",
              "      <th>19197</th>\n",
              "      <td>2.0</td>\n",
              "      <td>2.0</td>\n",
              "      <td>5.0</td>\n",
              "      <td>5.0</td>\n",
              "      <td>4.0</td>\n",
              "      <td>3.0</td>\n",
              "      <td>3.0</td>\n",
              "      <td>3.0</td>\n",
              "      <td>4.0</td>\n",
              "      <td>2.0</td>\n",
              "      <td>...</td>\n",
              "      <td>5.0</td>\n",
              "      <td>3.0</td>\n",
              "      <td>5.0</td>\n",
              "      <td>5.0</td>\n",
              "      <td>2.0</td>\n",
              "      <td>3.0</td>\n",
              "      <td>5.0</td>\n",
              "      <td>5.0</td>\n",
              "      <td>5.0</td>\n",
              "      <td>4</td>\n",
              "    </tr>\n",
              "    <tr>\n",
              "      <th>19198</th>\n",
              "      <td>5.0</td>\n",
              "      <td>3.0</td>\n",
              "      <td>3.0</td>\n",
              "      <td>2.0</td>\n",
              "      <td>4.0</td>\n",
              "      <td>2.0</td>\n",
              "      <td>5.0</td>\n",
              "      <td>5.0</td>\n",
              "      <td>5.0</td>\n",
              "      <td>5.0</td>\n",
              "      <td>...</td>\n",
              "      <td>0.0</td>\n",
              "      <td>0.0</td>\n",
              "      <td>0.0</td>\n",
              "      <td>0.0</td>\n",
              "      <td>0.0</td>\n",
              "      <td>0.0</td>\n",
              "      <td>0.0</td>\n",
              "      <td>0.0</td>\n",
              "      <td>0.0</td>\n",
              "      <td>4</td>\n",
              "    </tr>\n",
              "    <tr>\n",
              "      <th>19199</th>\n",
              "      <td>4.0</td>\n",
              "      <td>4.0</td>\n",
              "      <td>4.0</td>\n",
              "      <td>2.0</td>\n",
              "      <td>4.0</td>\n",
              "      <td>4.0</td>\n",
              "      <td>2.0</td>\n",
              "      <td>3.0</td>\n",
              "      <td>4.0</td>\n",
              "      <td>5.0</td>\n",
              "      <td>...</td>\n",
              "      <td>0.0</td>\n",
              "      <td>0.0</td>\n",
              "      <td>0.0</td>\n",
              "      <td>0.0</td>\n",
              "      <td>0.0</td>\n",
              "      <td>0.0</td>\n",
              "      <td>0.0</td>\n",
              "      <td>0.0</td>\n",
              "      <td>0.0</td>\n",
              "      <td>4</td>\n",
              "    </tr>\n",
              "    <tr>\n",
              "      <th>19200</th>\n",
              "      <td>5.0</td>\n",
              "      <td>5.0</td>\n",
              "      <td>2.0</td>\n",
              "      <td>2.0</td>\n",
              "      <td>3.0</td>\n",
              "      <td>3.0</td>\n",
              "      <td>4.0</td>\n",
              "      <td>2.0</td>\n",
              "      <td>4.0</td>\n",
              "      <td>3.0</td>\n",
              "      <td>...</td>\n",
              "      <td>0.0</td>\n",
              "      <td>0.0</td>\n",
              "      <td>0.0</td>\n",
              "      <td>0.0</td>\n",
              "      <td>0.0</td>\n",
              "      <td>0.0</td>\n",
              "      <td>0.0</td>\n",
              "      <td>0.0</td>\n",
              "      <td>0.0</td>\n",
              "      <td>4</td>\n",
              "    </tr>\n",
              "    <tr>\n",
              "      <th>19201</th>\n",
              "      <td>4.0</td>\n",
              "      <td>4.0</td>\n",
              "      <td>4.0</td>\n",
              "      <td>2.0</td>\n",
              "      <td>4.0</td>\n",
              "      <td>4.0</td>\n",
              "      <td>2.0</td>\n",
              "      <td>3.0</td>\n",
              "      <td>4.0</td>\n",
              "      <td>5.0</td>\n",
              "      <td>...</td>\n",
              "      <td>0.0</td>\n",
              "      <td>0.0</td>\n",
              "      <td>0.0</td>\n",
              "      <td>0.0</td>\n",
              "      <td>0.0</td>\n",
              "      <td>0.0</td>\n",
              "      <td>0.0</td>\n",
              "      <td>0.0</td>\n",
              "      <td>0.0</td>\n",
              "      <td>4</td>\n",
              "    </tr>\n",
              "  </tbody>\n",
              "</table>\n",
              "<p>19202 rows × 501 columns</p>\n",
              "</div>\n",
              "    <div class=\"colab-df-buttons\">\n",
              "\n",
              "  <div class=\"colab-df-container\">\n",
              "    <button class=\"colab-df-convert\" onclick=\"convertToInteractive('df-614b1ecc-b590-4ebc-a9ed-1c3f3fa91eec')\"\n",
              "            title=\"Convert this dataframe to an interactive table.\"\n",
              "            style=\"display:none;\">\n",
              "\n",
              "  <svg xmlns=\"http://www.w3.org/2000/svg\" height=\"24px\" viewBox=\"0 -960 960 960\">\n",
              "    <path d=\"M120-120v-720h720v720H120Zm60-500h600v-160H180v160Zm220 220h160v-160H400v160Zm0 220h160v-160H400v160ZM180-400h160v-160H180v160Zm440 0h160v-160H620v160ZM180-180h160v-160H180v160Zm440 0h160v-160H620v160Z\"/>\n",
              "  </svg>\n",
              "    </button>\n",
              "\n",
              "  <style>\n",
              "    .colab-df-container {\n",
              "      display:flex;\n",
              "      gap: 12px;\n",
              "    }\n",
              "\n",
              "    .colab-df-convert {\n",
              "      background-color: #E8F0FE;\n",
              "      border: none;\n",
              "      border-radius: 50%;\n",
              "      cursor: pointer;\n",
              "      display: none;\n",
              "      fill: #1967D2;\n",
              "      height: 32px;\n",
              "      padding: 0 0 0 0;\n",
              "      width: 32px;\n",
              "    }\n",
              "\n",
              "    .colab-df-convert:hover {\n",
              "      background-color: #E2EBFA;\n",
              "      box-shadow: 0px 1px 2px rgba(60, 64, 67, 0.3), 0px 1px 3px 1px rgba(60, 64, 67, 0.15);\n",
              "      fill: #174EA6;\n",
              "    }\n",
              "\n",
              "    .colab-df-buttons div {\n",
              "      margin-bottom: 4px;\n",
              "    }\n",
              "\n",
              "    [theme=dark] .colab-df-convert {\n",
              "      background-color: #3B4455;\n",
              "      fill: #D2E3FC;\n",
              "    }\n",
              "\n",
              "    [theme=dark] .colab-df-convert:hover {\n",
              "      background-color: #434B5C;\n",
              "      box-shadow: 0px 1px 3px 1px rgba(0, 0, 0, 0.15);\n",
              "      filter: drop-shadow(0px 1px 2px rgba(0, 0, 0, 0.3));\n",
              "      fill: #FFFFFF;\n",
              "    }\n",
              "  </style>\n",
              "\n",
              "    <script>\n",
              "      const buttonEl =\n",
              "        document.querySelector('#df-614b1ecc-b590-4ebc-a9ed-1c3f3fa91eec button.colab-df-convert');\n",
              "      buttonEl.style.display =\n",
              "        google.colab.kernel.accessAllowed ? 'block' : 'none';\n",
              "\n",
              "      async function convertToInteractive(key) {\n",
              "        const element = document.querySelector('#df-614b1ecc-b590-4ebc-a9ed-1c3f3fa91eec');\n",
              "        const dataTable =\n",
              "          await google.colab.kernel.invokeFunction('convertToInteractive',\n",
              "                                                    [key], {});\n",
              "        if (!dataTable) return;\n",
              "\n",
              "        const docLinkHtml = 'Like what you see? Visit the ' +\n",
              "          '<a target=\"_blank\" href=https://colab.research.google.com/notebooks/data_table.ipynb>data table notebook</a>'\n",
              "          + ' to learn more about interactive tables.';\n",
              "        element.innerHTML = '';\n",
              "        dataTable['output_type'] = 'display_data';\n",
              "        await google.colab.output.renderOutput(dataTable, element);\n",
              "        const docLink = document.createElement('div');\n",
              "        docLink.innerHTML = docLinkHtml;\n",
              "        element.appendChild(docLink);\n",
              "      }\n",
              "    </script>\n",
              "  </div>\n",
              "\n",
              "\n",
              "<div id=\"df-1299a6f3-6743-4932-b695-0f08e656a0df\">\n",
              "  <button class=\"colab-df-quickchart\" onclick=\"quickchart('df-1299a6f3-6743-4932-b695-0f08e656a0df')\"\n",
              "            title=\"Suggest charts\"\n",
              "            style=\"display:none;\">\n",
              "\n",
              "<svg xmlns=\"http://www.w3.org/2000/svg\" height=\"24px\"viewBox=\"0 0 24 24\"\n",
              "     width=\"24px\">\n",
              "    <g>\n",
              "        <path d=\"M19 3H5c-1.1 0-2 .9-2 2v14c0 1.1.9 2 2 2h14c1.1 0 2-.9 2-2V5c0-1.1-.9-2-2-2zM9 17H7v-7h2v7zm4 0h-2V7h2v10zm4 0h-2v-4h2v4z\"/>\n",
              "    </g>\n",
              "</svg>\n",
              "  </button>\n",
              "\n",
              "<style>\n",
              "  .colab-df-quickchart {\n",
              "      --bg-color: #E8F0FE;\n",
              "      --fill-color: #1967D2;\n",
              "      --hover-bg-color: #E2EBFA;\n",
              "      --hover-fill-color: #174EA6;\n",
              "      --disabled-fill-color: #AAA;\n",
              "      --disabled-bg-color: #DDD;\n",
              "  }\n",
              "\n",
              "  [theme=dark] .colab-df-quickchart {\n",
              "      --bg-color: #3B4455;\n",
              "      --fill-color: #D2E3FC;\n",
              "      --hover-bg-color: #434B5C;\n",
              "      --hover-fill-color: #FFFFFF;\n",
              "      --disabled-bg-color: #3B4455;\n",
              "      --disabled-fill-color: #666;\n",
              "  }\n",
              "\n",
              "  .colab-df-quickchart {\n",
              "    background-color: var(--bg-color);\n",
              "    border: none;\n",
              "    border-radius: 50%;\n",
              "    cursor: pointer;\n",
              "    display: none;\n",
              "    fill: var(--fill-color);\n",
              "    height: 32px;\n",
              "    padding: 0;\n",
              "    width: 32px;\n",
              "  }\n",
              "\n",
              "  .colab-df-quickchart:hover {\n",
              "    background-color: var(--hover-bg-color);\n",
              "    box-shadow: 0 1px 2px rgba(60, 64, 67, 0.3), 0 1px 3px 1px rgba(60, 64, 67, 0.15);\n",
              "    fill: var(--button-hover-fill-color);\n",
              "  }\n",
              "\n",
              "  .colab-df-quickchart-complete:disabled,\n",
              "  .colab-df-quickchart-complete:disabled:hover {\n",
              "    background-color: var(--disabled-bg-color);\n",
              "    fill: var(--disabled-fill-color);\n",
              "    box-shadow: none;\n",
              "  }\n",
              "\n",
              "  .colab-df-spinner {\n",
              "    border: 2px solid var(--fill-color);\n",
              "    border-color: transparent;\n",
              "    border-bottom-color: var(--fill-color);\n",
              "    animation:\n",
              "      spin 1s steps(1) infinite;\n",
              "  }\n",
              "\n",
              "  @keyframes spin {\n",
              "    0% {\n",
              "      border-color: transparent;\n",
              "      border-bottom-color: var(--fill-color);\n",
              "      border-left-color: var(--fill-color);\n",
              "    }\n",
              "    20% {\n",
              "      border-color: transparent;\n",
              "      border-left-color: var(--fill-color);\n",
              "      border-top-color: var(--fill-color);\n",
              "    }\n",
              "    30% {\n",
              "      border-color: transparent;\n",
              "      border-left-color: var(--fill-color);\n",
              "      border-top-color: var(--fill-color);\n",
              "      border-right-color: var(--fill-color);\n",
              "    }\n",
              "    40% {\n",
              "      border-color: transparent;\n",
              "      border-right-color: var(--fill-color);\n",
              "      border-top-color: var(--fill-color);\n",
              "    }\n",
              "    60% {\n",
              "      border-color: transparent;\n",
              "      border-right-color: var(--fill-color);\n",
              "    }\n",
              "    80% {\n",
              "      border-color: transparent;\n",
              "      border-right-color: var(--fill-color);\n",
              "      border-bottom-color: var(--fill-color);\n",
              "    }\n",
              "    90% {\n",
              "      border-color: transparent;\n",
              "      border-bottom-color: var(--fill-color);\n",
              "    }\n",
              "  }\n",
              "</style>\n",
              "\n",
              "  <script>\n",
              "    async function quickchart(key) {\n",
              "      const quickchartButtonEl =\n",
              "        document.querySelector('#' + key + ' button');\n",
              "      quickchartButtonEl.disabled = true;  // To prevent multiple clicks.\n",
              "      quickchartButtonEl.classList.add('colab-df-spinner');\n",
              "      try {\n",
              "        const charts = await google.colab.kernel.invokeFunction(\n",
              "            'suggestCharts', [key], {});\n",
              "      } catch (error) {\n",
              "        console.error('Error during call to suggestCharts:', error);\n",
              "      }\n",
              "      quickchartButtonEl.classList.remove('colab-df-spinner');\n",
              "      quickchartButtonEl.classList.add('colab-df-quickchart-complete');\n",
              "    }\n",
              "    (() => {\n",
              "      let quickchartButtonEl =\n",
              "        document.querySelector('#df-1299a6f3-6743-4932-b695-0f08e656a0df button');\n",
              "      quickchartButtonEl.style.display =\n",
              "        google.colab.kernel.accessAllowed ? 'block' : 'none';\n",
              "    })();\n",
              "  </script>\n",
              "</div>\n",
              "    </div>\n",
              "  </div>\n"
            ],
            "application/vnd.google.colaboratory.intrinsic+json": {
              "type": "dataframe",
              "variable_name": "data_tokenized"
            }
          },
          "metadata": {},
          "execution_count": 17
        }
      ]
    },
    {
      "cell_type": "code",
      "source": [
        "data_tokenized.to_csv('/content/drive/My Drive/Diplom/data_tokenized_19202_500.csv', index=False)"
      ],
      "metadata": {
        "id": "UzDJgL6D2kCc"
      },
      "execution_count": null,
      "outputs": []
    },
    {
      "cell_type": "code",
      "source": [
        "df_verify = pd.read_csv('/content/drive/My Drive/Diplom/data_tokenized_19202_500.csv')\n",
        "print(df_verify)"
      ],
      "metadata": {
        "colab": {
          "base_uri": "https://localhost:8080/"
        },
        "id": "4epGVv_ZfXd_",
        "outputId": "1e31e4a8-4494-4e5c-b7c2-dfa1a1a73558"
      },
      "execution_count": null,
      "outputs": [
        {
          "output_type": "stream",
          "name": "stdout",
          "text": [
            "         0    1    2    3    4    5    6    7    8    9  ...  491  492  493  \\\n",
            "0      2.0  3.0  2.0  2.0  4.0  2.0  4.0  4.0  4.0  4.0  ...  2.0  5.0  5.0   \n",
            "1      2.0  5.0  2.0  2.0  5.0  3.0  4.0  5.0  5.0  5.0  ...  5.0  3.0  2.0   \n",
            "2      3.0  3.0  2.0  2.0  2.0  4.0  5.0  4.0  5.0  4.0  ...  0.0  0.0  0.0   \n",
            "3      5.0  2.0  2.0  2.0  4.0  5.0  4.0  5.0  4.0  5.0  ...  0.0  0.0  0.0   \n",
            "4      4.0  5.0  4.0  5.0  4.0  5.0  2.0  5.0  2.0  2.0  ...  5.0  0.0  0.0   \n",
            "...    ...  ...  ...  ...  ...  ...  ...  ...  ...  ...  ...  ...  ...  ...   \n",
            "19197  2.0  2.0  5.0  5.0  4.0  3.0  3.0  3.0  4.0  2.0  ...  5.0  3.0  5.0   \n",
            "19198  5.0  3.0  3.0  2.0  4.0  2.0  5.0  5.0  5.0  5.0  ...  0.0  0.0  0.0   \n",
            "19199  4.0  4.0  4.0  2.0  4.0  4.0  2.0  3.0  4.0  5.0  ...  0.0  0.0  0.0   \n",
            "19200  5.0  5.0  2.0  2.0  3.0  3.0  4.0  2.0  4.0  3.0  ...  0.0  0.0  0.0   \n",
            "19201  4.0  4.0  4.0  2.0  4.0  4.0  2.0  3.0  4.0  5.0  ...  0.0  0.0  0.0   \n",
            "\n",
            "       494  495  496  497  498  499  label  \n",
            "0      5.0  5.0  2.0  2.0  5.0  2.0      0  \n",
            "1      5.0  2.0  5.0  2.0  4.0  2.0      0  \n",
            "2      0.0  0.0  0.0  0.0  0.0  0.0      0  \n",
            "3      0.0  0.0  0.0  0.0  0.0  0.0      0  \n",
            "4      0.0  0.0  0.0  0.0  0.0  0.0      0  \n",
            "...    ...  ...  ...  ...  ...  ...    ...  \n",
            "19197  5.0  2.0  3.0  5.0  5.0  5.0      4  \n",
            "19198  0.0  0.0  0.0  0.0  0.0  0.0      4  \n",
            "19199  0.0  0.0  0.0  0.0  0.0  0.0      4  \n",
            "19200  0.0  0.0  0.0  0.0  0.0  0.0      4  \n",
            "19201  0.0  0.0  0.0  0.0  0.0  0.0      4  \n",
            "\n",
            "[19202 rows x 501 columns]\n"
          ]
        }
      ]
    }
  ]
}